{
  "nbformat": 4,
  "nbformat_minor": 0,
  "metadata": {
    "colab": {
      "name": "Оценка_экономического_эффекта.ipynb\"",
      "provenance": [],
      "collapsed_sections": []
    },
    "kernelspec": {
      "name": "python3",
      "display_name": "Python 3"
    },
    "language_info": {
      "name": "python"
    }
  },
  "cells": [
    {
      "cell_type": "markdown",
      "metadata": {
        "id": "7lbZkj3XDzVb"
      },
      "source": [
        "Оцените потенциальный экономический эффект, который вы ожидаете получить в случае успешной реализации проекта.\n",
        "- Опишите логику оценки и приведите расчет;\n",
        "- Как оценка эффекта будет меняться в зависимости от качества модели?\n",
        "- Можете ли вы оценить, насколько изменится эффект от роста качества модели на 1%? На 10%?\n"
      ]
    },
    {
      "cell_type": "code",
      "metadata": {
        "id": "hunYXdy7Ik-Q"
      },
      "source": [
        "import pandas as pd\n",
        "import numpy as np\n",
        "import matplotlib\n",
        "import matplotlib.pyplot as plt"
      ],
      "execution_count": 1,
      "outputs": []
    },
    {
      "cell_type": "markdown",
      "metadata": {
        "id": "VHrIczX6D356"
      },
      "source": [
        "# Решение\n",
        "\n",
        "Компании принесёт прибыль (в рамках этой программы-акции) продажа пакета услуг, который будет продан тем, кто прошёл тестирование. Для оценки экономического эффекта мы берем в расчет только инкрементальный денежный поток, согласно методологии оценки проектов от Chartered Institute of Management Accountants (CIMA). \n",
        "\n",
        "Постоянные расходы мы не учитываем в оценке экономического эффекта, т.к. они не являются инкрементальными. Расходы на обепечение прохождения теста(поддержка сервиса, продвижение и рекламу тестирования в Интернет) взял на себя отдел PR в рамках их проекта узнаваемости бренда сети клиник М., и они не являются инкрементальными для данного проекта.\n",
        "\n",
        "Для рассчёта экономичекого эффекта используем следующие показатели:\n",
        "- $N$ -  количество пациентов, прошедших тестирование, пациенты;\n",
        "- $AMRU_{high}$(Average Margin per User) - средняя прибыль от 1 пользователя, который по тестированию имеет высокий риск к заболеванию, руб.;\n",
        "- $AMRU_{low}$(Average Margin per User) - средняя прибыль от 1 пользователя, который по тестированию имеет низкий риск к заболеванию, руб.;\n",
        "- $\\eta$ - вероятность прихода в клинику людей, которым тестирование сообщило о высоком риске к заболеваниюб %;\n",
        "- $\\mu$ - вероятность прихода в клинику людей, которым тестирование сообщило о низком риске к заболеваниюб %;\n",
        "- $Discount_{high}$ - скидка, предоставляемая пациентам, кому тестирование сообщило о высоком риске к заболеванию, %;\n",
        "- $Discount_{low}$ - скидка, предоставляемая пациентам, кому тестирование сообщило о низком риске к заболеванию, %;\n",
        "- $Price_{high}$ - цена за пакет услуг для пациентов, кому тестирование сообщило о высоком риске к заболеванию, руб.;\n",
        "- $Price_{low}$ - цена за пакет услуг для пациентов, кому тестирование сообщило о низком риске к заболеванию, руб.;\n",
        "- $Сost_{high}$ - переменные затраты пакета услуг для пациентов, кому тестирование сообщило о высоком риске к заболеванию, руб.;\n",
        "- $Сost_{low}$ - переменные затраты пакета услуг для пациентов, кому тестирование сообщило о высоком риске к заболеванию, руб.;\n",
        "- $w$ - доля больных диабетом людей в России;\n",
        "- $\\,TP,\\, FP,\\, TN,\\,FN$ - взяты из матрицы ошибок:\n",
        "\n",
        "***Логика оценки***\n",
        "\n",
        "\n",
        "\n",
        "\n",
        "\n",
        "\n",
        "*Экономический эффект:*\n",
        "* $N*[\\eta*(\\frac{TP*w}{TP+FP}+\\frac{FN*(1-w)}{TN+FN})*AMPU_{high}+\\mu*(\\frac{FP*w}{TP+FP}+\\frac{TN*(1-w)}{TN+FN})*AMPU_{low}]$, \n",
        "\n",
        "где:\n",
        "* $AMPU_{high} = Price_{high}*(1-Discount_{high})-(Cost_{high})$,\n",
        "* $AMPU_{low} = Price_{low}*(1-Discount_{high})-(Cost_{low})$.\n",
        "\n",
        "\n",
        "\n",
        "\n"
      ]
    },
    {
      "cell_type": "markdown",
      "metadata": {
        "id": "DuKEYaAII5Dh"
      },
      "source": [
        "Бизнес-кейс построили на следующих предположениях:"
      ]
    },
    {
      "cell_type": "code",
      "metadata": {
        "id": "MVEo34IuDYIZ"
      },
      "source": [
        "N = 1000\n",
        "eta = 0.5\n",
        "mu = 0.4\n",
        "discount_high = 0.60\n",
        "discount_low = 0.172\n",
        "price_high = 9160\n",
        "price_low = 2535\n",
        "cost_high = 1820\n",
        "cost_low = 320\n",
        "w = 0.057"
      ],
      "execution_count": 2,
      "outputs": []
    },
    {
      "cell_type": "code",
      "metadata": {
        "id": "4x4l2jFYKgGD"
      },
      "source": [
        "def economic_effect(TP,FP, FN, TN, N = N, eta = eta, mu = mu, discount_high = discount_high, discount_low = discount_low,\n",
        "                    price_high = price_high, price_low = price_low, cost_high = cost_high, cost_low = cost_low,\n",
        "                    w = w):#0.057\n",
        "  AMPU_high = price_high*(1-discount_high)-cost_high\n",
        "  AMPU_low = price_low*(1-discount_low)-cost_low\n",
        "  profit_high = N*(eta*(TP*w/(TP+FP)+FN*(1-w)/(TN+FN))) * AMPU_high\n",
        "  profit_low = N * (mu*(FP*w/(TP+FP)+TN*(1-w)/(TN+FN))) * AMPU_low\n",
        "  calc = profit_high + profit_low\n",
        "  return round(calc / 1000, 1)\n",
        "\n",
        "def recall(TP,FP, FN, TN):\n",
        "  return(TP/(TP+FN))\n",
        "\n",
        "def precision(TP,FP, FN, TN):\n",
        "  return(TP/(TP+FP))\n",
        "\n",
        "def f_score(TP,FP, FN, TN):\n",
        "  r = recall(TP,FP, FN, TN)\n",
        "  p = precision(TP,FP, FN, TN)\n",
        "  return(2*r*p/(r+p))"
      ],
      "execution_count": 3,
      "outputs": []
    },
    {
      "cell_type": "code",
      "metadata": {
        "colab": {
          "base_uri": "https://localhost:8080/"
        },
        "id": "ug8QfVxTJ7wX",
        "outputId": "c4189bec-477f-435f-9576-33c06695a19d"
      },
      "source": [
        " print('Таким образом, от внедрения проекта мы ожидаем экономический эффект, равный', economic_effect(39,3,2,19), 'тыс.руб., при f1-score', round(f_score(39,3,2,19),2))\n",
        " print('Улучшение модели на 1% по расчетам принесет эффект, равный', economic_effect(40,3,1,19), 'тыс.руб., при f1-score', round(f_score(40,3,1,19),2))\n",
        " print('Идеальная модель по расчетам принесет эффект, равный', economic_effect(41,0,0,22), 'тыс.руб., при f1-score', round(f_score(41,0,0,22),2))"
      ],
      "execution_count": 4,
      "outputs": [
        {
          "output_type": "stream",
          "text": [
            "Таким образом, от внедрения проекта мы ожидаем экономический эффект, равный 741.6 тыс.руб., при f1-score 0.94\n",
            "Улучшение модели на 1% по расчетам принесет эффект, равный 732.7 тыс.руб., при f1-score 0.95\n",
            "Идеальная модель по расчетам принесет эффект, равный 723.6 тыс.руб., при f1-score 1.0\n"
          ],
          "name": "stdout"
        }
      ]
    },
    {
      "cell_type": "markdown",
      "metadata": {
        "id": "f66ld6ejM-q1"
      },
      "source": [
        "Построим график зависимости экономического эффекта от f1-score для проверки предложенного проекта на устойчивость в зависимости от качества модели при прочих равных - фиксированном значении  $FP + TN$."
      ]
    },
    {
      "cell_type": "code",
      "metadata": {
        "id": "XG_rPcKa2ry9",
        "colab": {
          "base_uri": "https://localhost:8080/",
          "height": 328
        },
        "outputId": "6d5192d1-12e5-4d6d-e521-feb8051dc7c6"
      },
      "source": [
        "p = [ economic_effect(i,3,41-i,19) for i in range(30,42)]\n",
        "f1 = [round(f_score(i,3,41-i,19),2) for i in range(30,42)]\n",
        "p_ideal = economic_effect(41,0,0,22) # добавьте на график, плиз\n",
        "f1_ideal = round(f_score(41,0,0,22),2) # добавьте на график, плиз\n",
        "\n",
        "\n",
        "plt.plot(f1, p, c= \"maroon\")\n",
        "plt.scatter(f1, p, c= \"maroon\")\n",
        "plt.grid()\n",
        "plt.title(\"Экономический эффект \\n в зависимости от качества модели \\n (при фиксированном $FP + TN$)\")\n",
        "plt.xlabel(\"Качество модели F1-score\")\n",
        "plt.ylabel(\"AMPU, тыс.руб.\")\n",
        "plt.xlim(0.81, 0.97)\n",
        "plt.ylim(0, 900)\n",
        "plt.show()"
      ],
      "execution_count": 5,
      "outputs": [
        {
          "output_type": "display_data",
          "data": {
            "image/png": "[encoded data removed]",
            "text/plain": [
              "<Figure size 432x288 with 1 Axes>"
            ]
          },
          "metadata": {
            "tags": [],
            "needs_background": "light"
          }
        }
      ]
    },
    {
      "cell_type": "markdown",
      "metadata": {
        "id": "M60Wj6zuNB9s"
      },
      "source": [
        "Предложенный проект отвечает финансовым критериям, прогнозируемый результат достаточно устойчив.\n",
        "Проект рекомендуется к ведрению."
      ]
    }
  ]
}