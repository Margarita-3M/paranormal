{
 "cells": [
  {
   "cell_type": "code",
   "execution_count": 45,
   "id": "seeing-equipment",
   "metadata": {},
   "outputs": [],
   "source": [
    "import pickle\n",
    "import numpy as np\n",
    "import pandas as pd"
   ]
  },
  {
   "cell_type": "code",
   "execution_count": 46,
   "id": "owned-table",
   "metadata": {},
   "outputs": [],
   "source": [
    "model = pickle.load(open('rf.pkl', 'rb'))"
   ]
  },
  {
   "cell_type": "code",
   "execution_count": 120,
   "id": "micro-found",
   "metadata": {},
   "outputs": [],
   "source": [
    "classes = [\n",
    "    'negative', \n",
    "    'positive'\n",
    "]\n",
    "\n",
    "columns = [\n",
    "    'age',\n",
    "    'gender',\n",
    "    'polyuria',\n",
    "    'polydipsia',\n",
    "    'sudden_weight_loss',\n",
    "    'weakness',\n",
    "    'polyphagia',\n",
    "    'genital_thrush',\n",
    "    'visual_blurring',\n",
    "    'itching',\n",
    "    'irritability',\n",
    "    'delayed_healing',\n",
    "    'partial_paresis',\n",
    "    'muscle_stiffness',\n",
    "    'alopecia',\n",
    "    'obesity'\n",
    "]\n",
    "\n",
    "questions = [\n",
    "    ['age?', int, 0, 120, None],\n",
    "    ['gender? (male / female)', str, None, None, ['male','female']],\n",
    "    ['polyuria? (yes / no)', str, None, None, ['yes','no']],\n",
    "    ['polydipsia? (yes / no)', str, None, None, ['yes','no']],\n",
    "    ['sudden_weight_loss? (yes / no)', str, None, None, ['yes','no']],\n",
    "    ['weakness? (yes / no)', str, None, None, ['yes','no']],\n",
    "    ['polyphagia? (yes / no)', str, None, None, ['yes','no']],\n",
    "    ['genital_thrush? (yes / no)', str, None, None, ['yes','no']],\n",
    "    ['visual_blurring? (yes / no)', str, None, None, ['yes','no']],\n",
    "    ['itching? (yes / no)', str, None, None, ['yes','no']],\n",
    "    ['irritability? (yes / no)', str, None, None, ['yes','no']],\n",
    "    ['delayed_healing? (yes / no)', str, None, None, ['yes','no']],\n",
    "    ['partial_paresis? (yes / no)', str, None, None, ['yes','no']],\n",
    "    ['muscle_stiffness? (yes / no)', str, None, None, ['yes','no']],\n",
    "    ['alopecia? (yes / no)', str, None, None, ['yes','no']],\n",
    "    ['obesity? (yes / no)', str, None, None, ['yes','no']]\n",
    "]\n",
    "\n",
    "answers = {}"
   ]
  },
  {
   "cell_type": "code",
   "execution_count": 121,
   "id": "functioning-illustration",
   "metadata": {},
   "outputs": [],
   "source": [
    "def check_answer(q, m):\n",
    "    \n",
    "    if q[1] == int:\n",
    "        try: m = int(m)\n",
    "        except: return None\n",
    "    \n",
    "    if (q[2] is not None) and (m < q[2]): return None\n",
    "    if (q[3] is not None) and (m > q[3]): return None\n",
    "    if (q[4] is not None) and (m not in q[4]): return None\n",
    "    return m\n",
    "\n",
    "\n",
    "def handle_text(user_id, message):\n",
    "\n",
    "    if message == '/start':\n",
    "        answers[user_id] = []\n",
    "        print(questions[0][0])\n",
    "    \n",
    "    elif user_id in answers:\n",
    "        \n",
    "        if len(answers[user_id]) < len(questions):\n",
    "            q = questions[len(answers[user_id])]\n",
    "            a = check_answer(q, message)\n",
    "            if a is not None: answers[user_id].append(a)\n",
    "        \n",
    "        if len(answers[user_id]) < len(questions):\n",
    "            print(questions[len(answers[user_id])][0])\n",
    "        \n",
    "        else: \n",
    "            print(answers[user_id])\n",
    "            data = pd.DataFrame([answers[user_id]], columns=columns)\n",
    "            probas = model.predict_proba(data)[:,1]\n",
    "            predicted = model.predict(data)\n",
    "            print(f'{classes[predicted[0]]} ({probas[0]:.4f})')"
   ]
  },
  {
   "cell_type": "code",
   "execution_count": 92,
   "id": "broke-assurance",
   "metadata": {},
   "outputs": [
    {
     "name": "stdout",
     "output_type": "stream",
     "text": [
      "[43, 'male', 'no', 'no', 'no', 'no', 'no', 'no', 'no', 'no', 'no', 'no', 'no', 'no', 'no', 'no']\n",
      "negative (0.0388)\n"
     ]
    }
   ],
   "source": [
    "handle_text(777, 'no')"
   ]
  },
  {
   "cell_type": "code",
   "execution_count": 109,
   "id": "anonymous-bennett",
   "metadata": {},
   "outputs": [
    {
     "name": "stdout",
     "output_type": "stream",
     "text": [
      "[25, 'female', 'yes', 'yes', 'yes', 'yes', 'yes', 'yes', 'yes', 'yes', 'yes', 'yes', 'yes', 'yes', 'yes', 'yes']\n",
      "positive (0.9700)\n"
     ]
    }
   ],
   "source": [
    "handle_text(888, 'yes')"
   ]
  },
  {
   "cell_type": "code",
   "execution_count": 111,
   "id": "dense-passage",
   "metadata": {},
   "outputs": [
    {
     "name": "stdout",
     "output_type": "stream",
     "text": [
      "{777: [43, 'male', 'no', 'no', 'no', 'no', 'no', 'no', 'no', 'no', 'no', 'no', 'no', 'no', 'no', 'no'], 888: [25, 'female', 'yes', 'yes', 'yes', 'yes', 'yes', 'yes', 'yes', 'yes', 'yes', 'yes', 'yes', 'yes', 'yes', 'yes']}\n"
     ]
    }
   ],
   "source": [
    "print(answers)"
   ]
  }
 ],
 "metadata": {
  "kernelspec": {
   "display_name": "Python 3",
   "language": "python",
   "name": "python3"
  },
  "language_info": {
   "codemirror_mode": {
    "name": "ipython",
    "version": 3
   },
   "file_extension": ".py",
   "mimetype": "text/x-python",
   "name": "python",
   "nbconvert_exporter": "python",
   "pygments_lexer": "ipython3",
   "version": "3.9.5"
  }
 },
 "nbformat": 4,
 "nbformat_minor": 5
}
