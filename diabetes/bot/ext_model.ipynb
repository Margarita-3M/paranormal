{
 "cells": [
  {
   "cell_type": "code",
   "execution_count": 1,
   "id": "industrial-blackberry",
   "metadata": {},
   "outputs": [],
   "source": [
    "import pickle\n",
    "import pandas as pd"
   ]
  },
  {
   "cell_type": "code",
   "execution_count": 2,
   "id": "suspected-rebel",
   "metadata": {},
   "outputs": [],
   "source": [
    "classes = ['negative','positive']"
   ]
  },
  {
   "cell_type": "code",
   "execution_count": 3,
   "id": "prompt-colors",
   "metadata": {},
   "outputs": [],
   "source": [
    "columns = ['age','gender','polyuria','polydipsia',\n",
    "           'sudden_weight_loss','weakness','polyphagia',\n",
    "           'genital_thrush','visual_blurring','itching',\n",
    "           'irritability','delayed_healing','partial_paresis',\n",
    "           'muscle_stiffness','alopecia','obesity']"
   ]
  },
  {
   "cell_type": "code",
   "execution_count": 4,
   "id": "fantastic-saskatchewan",
   "metadata": {},
   "outputs": [],
   "source": [
    "answers = ['42','male','yes','yes','yes','yes','yes','yes',\n",
    "           'yes','yes','yes','yes','yes','yes','yes','yes']"
   ]
  },
  {
   "cell_type": "code",
   "execution_count": 5,
   "id": "optical-tract",
   "metadata": {},
   "outputs": [],
   "source": [
    "model = pickle.load(open('ext_random_forest.pkl', 'rb'))"
   ]
  },
  {
   "cell_type": "code",
   "execution_count": 6,
   "id": "raised-package",
   "metadata": {},
   "outputs": [],
   "source": [
    "data = pd.DataFrame([answers], columns=columns)\n",
    "data.replace({'male':1,'female':0}, inplace=True)\n",
    "data.replace({'yes':1,'no':0}, inplace=True)\n",
    "data['age'] = data['age'].astype('int')"
   ]
  },
  {
   "cell_type": "code",
   "execution_count": 7,
   "id": "perceived-mortgage",
   "metadata": {},
   "outputs": [
    {
     "data": {
      "text/plain": [
       "('positive', 0.9428571428571428)"
      ]
     },
     "execution_count": 7,
     "metadata": {},
     "output_type": "execute_result"
    }
   ],
   "source": [
    "probas = model.predict_proba(data)[:,1]\n",
    "predicted = model.predict(data)\n",
    "classes[predicted[0]], probas[0]"
   ]
  },
  {
   "cell_type": "code",
   "execution_count": 8,
   "id": "southern-infrared",
   "metadata": {},
   "outputs": [],
   "source": [
    "answers = [1 if a == 'yes' else a for a in answers]\n",
    "answers = [0 if a == 'no' else a for a in answers]\n",
    "answers = [1 if a == 'male' else a for a in answers]\n",
    "answers = [0 if a == 'female' else a for a in answers]"
   ]
  },
  {
   "cell_type": "code",
   "execution_count": 9,
   "id": "recent-gibraltar",
   "metadata": {},
   "outputs": [
    {
     "data": {
      "text/plain": [
       "('positive', 0.9428571428571428)"
      ]
     },
     "execution_count": 9,
     "metadata": {},
     "output_type": "execute_result"
    }
   ],
   "source": [
    "probas = model.predict_proba([answers])[:,1]\n",
    "predicted = model.predict([answers])\n",
    "classes[predicted[0]], probas[0]"
   ]
  }
 ],
 "metadata": {
  "kernelspec": {
   "display_name": "Python 3",
   "language": "python",
   "name": "python3"
  },
  "language_info": {
   "codemirror_mode": {
    "name": "ipython",
    "version": 3
   },
   "file_extension": ".py",
   "mimetype": "text/x-python",
   "name": "python",
   "nbconvert_exporter": "python",
   "pygments_lexer": "ipython3",
   "version": "3.9.5"
  }
 },
 "nbformat": 4,
 "nbformat_minor": 5
}
