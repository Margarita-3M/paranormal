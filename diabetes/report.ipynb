{
 "cells": [
  {
   "cell_type": "markdown",
   "id": "waiting-february",
   "metadata": {},
   "source": [
    "[Early stage diabetes risk prediction dataset](http://archive.ics.uci.edu/ml/datasets/Early+stage+diabetes+risk+prediction+dataset.)"
   ]
  },
  {
   "cell_type": "code",
   "execution_count": null,
   "id": "traditional-moses",
   "metadata": {},
   "outputs": [],
   "source": [
    "import numpy as np\n",
    "import pandas as pd\n",
    "from pandas_profiling import ProfileReport"
   ]
  },
  {
   "cell_type": "code",
   "execution_count": null,
   "id": "blocked-thought",
   "metadata": {},
   "outputs": [],
   "source": [
    "df = pd.read_csv('diabetes.csv')\n",
    "profile = ProfileReport(df, title='Diabetes Report')\n",
    "profile.to_file('report.html')"
   ]
  }
 ],
 "metadata": {
  "kernelspec": {
   "display_name": "Python 3",
   "language": "python",
   "name": "python3"
  },
  "language_info": {
   "codemirror_mode": {
    "name": "ipython",
    "version": 3
   },
   "file_extension": ".py",
   "mimetype": "text/x-python",
   "name": "python",
   "nbconvert_exporter": "python",
   "pygments_lexer": "ipython3",
   "version": "3.9.5"
  }
 },
 "nbformat": 4,
 "nbformat_minor": 5
}
