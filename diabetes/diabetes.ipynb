{
 "cells": [
  {
   "cell_type": "markdown",
   "id": "peaceful-medication",
   "metadata": {},
   "source": [
    "[Early stage diabetes risk prediction dataset](http://archive.ics.uci.edu/ml/datasets/Early+stage+diabetes+risk+prediction+dataset.)"
   ]
  },
  {
   "cell_type": "code",
   "execution_count": 1,
   "id": "pediatric-march",
   "metadata": {},
   "outputs": [],
   "source": [
    "import pickle\n",
    "import numpy as np\n",
    "import pandas as pd"
   ]
  },
  {
   "cell_type": "code",
   "execution_count": 2,
   "id": "white-savage",
   "metadata": {},
   "outputs": [],
   "source": [
    "!pip install -q catboost\n",
    "from catboost import CatBoostClassifier"
   ]
  },
  {
   "cell_type": "code",
   "execution_count": 3,
   "id": "under-fundamental",
   "metadata": {},
   "outputs": [],
   "source": [
    "from sklearn.pipeline import Pipeline\n",
    "from sklearn.compose import ColumnTransformer\n",
    "from sklearn.preprocessing import StandardScaler\n",
    "from sklearn.preprocessing import OneHotEncoder\n",
    "from sklearn.model_selection import GridSearchCV\n",
    "from sklearn.model_selection import train_test_split\n",
    "from sklearn.model_selection import RepeatedStratifiedKFold\n",
    "from sklearn.linear_model import LogisticRegression\n",
    "from sklearn.ensemble import RandomForestClassifier\n",
    "from sklearn.metrics import confusion_matrix\n",
    "from sklearn.metrics import accuracy_score\n",
    "from sklearn.metrics import precision_score\n",
    "from sklearn.metrics import recall_score\n",
    "from sklearn.metrics import roc_auc_score\n",
    "from sklearn.metrics import f1_score"
   ]
  },
  {
   "cell_type": "code",
   "execution_count": 4,
   "id": "choice-potential",
   "metadata": {},
   "outputs": [],
   "source": [
    "SEED, METRIC = 42, 'f1' # 'recall'"
   ]
  },
  {
   "cell_type": "code",
   "execution_count": 5,
   "id": "opposed-reserve",
   "metadata": {},
   "outputs": [],
   "source": [
    "def eval_model(model, data, target):\n",
    "    predicted = model.predict(data)\n",
    "    probas = model.predict_proba(data)[:,1]\n",
    "    print(confusion_matrix(target, predicted).T)\n",
    "    print(f'accuracy: {accuracy_score(target, predicted):.4f}')\n",
    "    print(f'roc_auc: {roc_auc_score(target, probas):.4f}')\n",
    "    print(f'precision: {precision_score(target, predicted):.4f}')\n",
    "    print(f'recall: {recall_score(target, predicted):.4f}')\n",
    "    print(f'f1: {f1_score(target, predicted):.4f}')"
   ]
  },
  {
   "cell_type": "code",
   "execution_count": 6,
   "id": "scientific-israel",
   "metadata": {},
   "outputs": [],
   "source": [
    "df = pd.read_csv('diabetes.csv')\n",
    "df.columns = [c.replace(' ', '_').lower() for c in df.columns]\n",
    "df.replace({'Yes':'yes', 'No':'no'}, inplace=True)\n",
    "df.replace({'Male':'male', 'Female':'female'}, inplace=True)\n",
    "df['class'] = df['class'].map({'Negative':0,'Positive':1})"
   ]
  },
  {
   "cell_type": "code",
   "execution_count": 7,
   "id": "innocent-commons",
   "metadata": {},
   "outputs": [
    {
     "data": {
      "text/html": [
       "<div>\n",
       "<style scoped>\n",
       "    .dataframe tbody tr th:only-of-type {\n",
       "        vertical-align: middle;\n",
       "    }\n",
       "\n",
       "    .dataframe tbody tr th {\n",
       "        vertical-align: top;\n",
       "    }\n",
       "\n",
       "    .dataframe thead th {\n",
       "        text-align: right;\n",
       "    }\n",
       "</style>\n",
       "<table border=\"1\" class=\"dataframe\">\n",
       "  <thead>\n",
       "    <tr style=\"text-align: right;\">\n",
       "      <th></th>\n",
       "      <th>age</th>\n",
       "      <th>gender</th>\n",
       "      <th>polyuria</th>\n",
       "      <th>polydipsia</th>\n",
       "      <th>sudden_weight_loss</th>\n",
       "      <th>weakness</th>\n",
       "      <th>polyphagia</th>\n",
       "      <th>genital_thrush</th>\n",
       "      <th>visual_blurring</th>\n",
       "      <th>itching</th>\n",
       "      <th>irritability</th>\n",
       "      <th>delayed_healing</th>\n",
       "      <th>partial_paresis</th>\n",
       "      <th>muscle_stiffness</th>\n",
       "      <th>alopecia</th>\n",
       "      <th>obesity</th>\n",
       "      <th>class</th>\n",
       "    </tr>\n",
       "  </thead>\n",
       "  <tbody>\n",
       "    <tr>\n",
       "      <th>0</th>\n",
       "      <td>40</td>\n",
       "      <td>male</td>\n",
       "      <td>no</td>\n",
       "      <td>yes</td>\n",
       "      <td>no</td>\n",
       "      <td>yes</td>\n",
       "      <td>no</td>\n",
       "      <td>no</td>\n",
       "      <td>no</td>\n",
       "      <td>yes</td>\n",
       "      <td>no</td>\n",
       "      <td>yes</td>\n",
       "      <td>no</td>\n",
       "      <td>yes</td>\n",
       "      <td>yes</td>\n",
       "      <td>yes</td>\n",
       "      <td>1</td>\n",
       "    </tr>\n",
       "    <tr>\n",
       "      <th>1</th>\n",
       "      <td>58</td>\n",
       "      <td>male</td>\n",
       "      <td>no</td>\n",
       "      <td>no</td>\n",
       "      <td>no</td>\n",
       "      <td>yes</td>\n",
       "      <td>no</td>\n",
       "      <td>no</td>\n",
       "      <td>yes</td>\n",
       "      <td>no</td>\n",
       "      <td>no</td>\n",
       "      <td>no</td>\n",
       "      <td>yes</td>\n",
       "      <td>no</td>\n",
       "      <td>yes</td>\n",
       "      <td>no</td>\n",
       "      <td>1</td>\n",
       "    </tr>\n",
       "    <tr>\n",
       "      <th>2</th>\n",
       "      <td>41</td>\n",
       "      <td>male</td>\n",
       "      <td>yes</td>\n",
       "      <td>no</td>\n",
       "      <td>no</td>\n",
       "      <td>yes</td>\n",
       "      <td>yes</td>\n",
       "      <td>no</td>\n",
       "      <td>no</td>\n",
       "      <td>yes</td>\n",
       "      <td>no</td>\n",
       "      <td>yes</td>\n",
       "      <td>no</td>\n",
       "      <td>yes</td>\n",
       "      <td>yes</td>\n",
       "      <td>no</td>\n",
       "      <td>1</td>\n",
       "    </tr>\n",
       "  </tbody>\n",
       "</table>\n",
       "</div>"
      ],
      "text/plain": [
       "   age gender polyuria polydipsia sudden_weight_loss weakness polyphagia  \\\n",
       "0   40   male       no        yes                 no      yes         no   \n",
       "1   58   male       no         no                 no      yes         no   \n",
       "2   41   male      yes         no                 no      yes        yes   \n",
       "\n",
       "  genital_thrush visual_blurring itching irritability delayed_healing  \\\n",
       "0             no              no     yes           no             yes   \n",
       "1             no             yes      no           no              no   \n",
       "2             no              no     yes           no             yes   \n",
       "\n",
       "  partial_paresis muscle_stiffness alopecia obesity  class  \n",
       "0              no              yes      yes     yes      1  \n",
       "1             yes               no      yes      no      1  \n",
       "2              no              yes      yes      no      1  "
      ]
     },
     "execution_count": 7,
     "metadata": {},
     "output_type": "execute_result"
    }
   ],
   "source": [
    "df[:3]"
   ]
  },
  {
   "cell_type": "code",
   "execution_count": 8,
   "id": "industrial-israeli",
   "metadata": {},
   "outputs": [],
   "source": [
    "num_cols = []\n",
    "cat_cols = df.columns[:-1].tolist()\n",
    "feature_cols = num_cols + cat_cols\n",
    "target_col = 'class'"
   ]
  },
  {
   "cell_type": "code",
   "execution_count": 9,
   "id": "revolutionary-ordinance",
   "metadata": {},
   "outputs": [],
   "source": [
    "train_data, test_data = train_test_split(df, test_size=0.2, stratify=df[target_col], random_state=SEED)"
   ]
  },
  {
   "cell_type": "code",
   "execution_count": 10,
   "id": "liable-satin",
   "metadata": {},
   "outputs": [],
   "source": [
    "lr = LogisticRegression(solver='liblinear', random_state=SEED)\n",
    "\n",
    "ct = ColumnTransformer([\n",
    "    ('num', StandardScaler(), num_cols),\n",
    "    ('cat', OneHotEncoder(handle_unknown='ignore'), cat_cols)])\n",
    "\n",
    "model = Pipeline([('ct', ct), ('clf', lr)])"
   ]
  },
  {
   "cell_type": "code",
   "execution_count": 11,
   "id": "gentle-population",
   "metadata": {},
   "outputs": [],
   "source": [
    "grid = {'clf__C': np.arange(0.1,3.0,0.1), 'clf__penalty': ['l1','l2']}\n",
    "kfold = RepeatedStratifiedKFold(n_splits=10, n_repeats=2, random_state=SEED)\n",
    "cv = GridSearchCV(model, grid, scoring=METRIC, cv=kfold)\n",
    "cv.fit(train_data[feature_cols], train_data[target_col])\n",
    "best_lr = cv.best_estimator_"
   ]
  },
  {
   "cell_type": "code",
   "execution_count": 12,
   "id": "rubber-monroe",
   "metadata": {},
   "outputs": [
    {
     "name": "stdout",
     "output_type": "stream",
     "text": [
      "[[150  14]\n",
      " [ 10 242]]\n",
      "accuracy: 0.9423\n",
      "roc_auc: 0.9893\n",
      "precision: 0.9603\n",
      "recall: 0.9453\n",
      "f1: 0.9528\n"
     ]
    }
   ],
   "source": [
    "eval_model(best_lr, train_data[feature_cols], train_data[target_col])"
   ]
  },
  {
   "cell_type": "code",
   "execution_count": 13,
   "id": "wound-geometry",
   "metadata": {},
   "outputs": [
    {
     "name": "stdout",
     "output_type": "stream",
     "text": [
      "[[39  6]\n",
      " [ 1 58]]\n",
      "accuracy: 0.9327\n",
      "roc_auc: 0.9832\n",
      "precision: 0.9831\n",
      "recall: 0.9062\n",
      "f1: 0.9431\n"
     ]
    }
   ],
   "source": [
    "eval_model(best_lr, test_data[feature_cols], test_data[target_col])"
   ]
  },
  {
   "cell_type": "code",
   "execution_count": 14,
   "id": "differential-blast",
   "metadata": {},
   "outputs": [],
   "source": [
    "grid = {'learning_rate':[0.1,0.2,0.3], 'num_trees':[50,80,100]}\n",
    "model = CatBoostClassifier(cat_features=cat_cols, silent=True)\n",
    "kfold = RepeatedStratifiedKFold(n_splits=10, n_repeats=2, random_state=SEED)\n",
    "cv = GridSearchCV(model, grid, scoring=METRIC, cv=kfold)\n",
    "cv.fit(train_data[feature_cols], train_data[target_col])\n",
    "best_cat = cv.best_estimator_ # .get_params()"
   ]
  },
  {
   "cell_type": "code",
   "execution_count": 15,
   "id": "minimal-pierce",
   "metadata": {},
   "outputs": [
    {
     "name": "stdout",
     "output_type": "stream",
     "text": [
      "[[159   1]\n",
      " [  1 255]]\n",
      "accuracy: 0.9952\n",
      "roc_auc: 0.9999\n",
      "precision: 0.9961\n",
      "recall: 0.9961\n",
      "f1: 0.9961\n"
     ]
    }
   ],
   "source": [
    "eval_model(best_cat, train_data[feature_cols], train_data[target_col])"
   ]
  },
  {
   "cell_type": "code",
   "execution_count": 16,
   "id": "facial-stream",
   "metadata": {},
   "outputs": [
    {
     "name": "stdout",
     "output_type": "stream",
     "text": [
      "[[40  1]\n",
      " [ 0 63]]\n",
      "accuracy: 0.9904\n",
      "roc_auc: 0.9973\n",
      "precision: 1.0000\n",
      "recall: 0.9844\n",
      "f1: 0.9921\n"
     ]
    }
   ],
   "source": [
    "eval_model(best_cat, test_data[feature_cols], test_data[target_col])"
   ]
  },
  {
   "cell_type": "code",
   "execution_count": 17,
   "id": "downtown-staff",
   "metadata": {},
   "outputs": [],
   "source": [
    "rf = RandomForestClassifier(random_state=SEED)\n",
    "\n",
    "ct = ColumnTransformer([\n",
    "    ('num', StandardScaler(), num_cols),\n",
    "    ('cat', OneHotEncoder(handle_unknown='ignore'), cat_cols)])\n",
    "\n",
    "model = Pipeline([('ct', ct), ('clf', rf)])"
   ]
  },
  {
   "cell_type": "code",
   "execution_count": 18,
   "id": "oriental-question",
   "metadata": {},
   "outputs": [],
   "source": [
    "grid = {'clf__n_estimators':[50,80,100], 'clf__max_depth':[5,10]}\n",
    "kfold = RepeatedStratifiedKFold(n_splits=10, n_repeats=2, random_state=SEED)\n",
    "cv = GridSearchCV(model, grid, scoring=METRIC, cv=kfold)\n",
    "cv.fit(train_data[feature_cols], train_data[target_col])\n",
    "best_rf = cv.best_estimator_"
   ]
  },
  {
   "cell_type": "code",
   "execution_count": 19,
   "id": "touched-shock",
   "metadata": {},
   "outputs": [
    {
     "name": "stdout",
     "output_type": "stream",
     "text": [
      "[[160   0]\n",
      " [  0 256]]\n",
      "accuracy: 1.0000\n",
      "roc_auc: 1.0000\n",
      "precision: 1.0000\n",
      "recall: 1.0000\n",
      "f1: 1.0000\n"
     ]
    }
   ],
   "source": [
    "eval_model(best_rf, train_data[feature_cols], train_data[target_col])"
   ]
  },
  {
   "cell_type": "code",
   "execution_count": 20,
   "id": "rental-majority",
   "metadata": {},
   "outputs": [
    {
     "name": "stdout",
     "output_type": "stream",
     "text": [
      "[[40  1]\n",
      " [ 0 63]]\n",
      "accuracy: 0.9904\n",
      "roc_auc: 0.9996\n",
      "precision: 1.0000\n",
      "recall: 0.9844\n",
      "f1: 0.9921\n"
     ]
    }
   ],
   "source": [
    "eval_model(best_rf, test_data[feature_cols], test_data[target_col])"
   ]
  },
  {
   "cell_type": "code",
   "execution_count": 21,
   "id": "happy-association",
   "metadata": {},
   "outputs": [],
   "source": [
    "pickle.dump(best_lr, open('lr.pkl', 'wb'))\n",
    "pickle.dump(best_rf, open('rf.pkl', 'wb'))\n",
    "best_cat.save_model('cat.cb')"
   ]
  },
  {
   "cell_type": "code",
   "execution_count": 22,
   "id": "electoral-hello",
   "metadata": {},
   "outputs": [],
   "source": [
    "lr = pickle.load(open('lr.pkl', 'rb'))\n",
    "rf = pickle.load(open('rf.pkl', 'rb'))\n",
    "cat = CatBoostClassifier().load_model('cat.cb')"
   ]
  },
  {
   "cell_type": "code",
   "execution_count": 23,
   "id": "special-local",
   "metadata": {},
   "outputs": [
    {
     "name": "stdout",
     "output_type": "stream",
     "text": [
      "[[39  6]\n",
      " [ 1 58]]\n",
      "accuracy: 0.9327\n",
      "roc_auc: 0.9832\n",
      "precision: 0.9831\n",
      "recall: 0.9062\n",
      "f1: 0.9431\n"
     ]
    }
   ],
   "source": [
    "eval_model(lr, test_data[feature_cols], test_data[target_col])"
   ]
  },
  {
   "cell_type": "code",
   "execution_count": 24,
   "id": "alleged-trauma",
   "metadata": {},
   "outputs": [
    {
     "name": "stdout",
     "output_type": "stream",
     "text": [
      "[[40  1]\n",
      " [ 0 63]]\n",
      "accuracy: 0.9904\n",
      "roc_auc: 0.9996\n",
      "precision: 1.0000\n",
      "recall: 0.9844\n",
      "f1: 0.9921\n"
     ]
    }
   ],
   "source": [
    "eval_model(rf, test_data[feature_cols], test_data[target_col])"
   ]
  },
  {
   "cell_type": "code",
   "execution_count": 25,
   "id": "monetary-savage",
   "metadata": {},
   "outputs": [
    {
     "name": "stdout",
     "output_type": "stream",
     "text": [
      "[[40  1]\n",
      " [ 0 63]]\n",
      "accuracy: 0.9904\n",
      "roc_auc: 0.9973\n",
      "precision: 1.0000\n",
      "recall: 0.9844\n",
      "f1: 0.9921\n"
     ]
    }
   ],
   "source": [
    "eval_model(cat, test_data[feature_cols], test_data[target_col])"
   ]
  }
 ],
 "metadata": {
  "kernelspec": {
   "display_name": "Python 3",
   "language": "python",
   "name": "python3"
  },
  "language_info": {
   "codemirror_mode": {
    "name": "ipython",
    "version": 3
   },
   "file_extension": ".py",
   "mimetype": "text/x-python",
   "name": "python",
   "nbconvert_exporter": "python",
   "pygments_lexer": "ipython3",
   "version": "3.9.5"
  }
 },
 "nbformat": 4,
 "nbformat_minor": 5
}
