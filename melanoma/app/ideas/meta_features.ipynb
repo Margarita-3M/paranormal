{
 "cells": [
  {
   "cell_type": "code",
   "execution_count": 9,
   "id": "later-tamil",
   "metadata": {},
   "outputs": [],
   "source": [
    "import pandas as pd"
   ]
  },
  {
   "cell_type": "code",
   "execution_count": 10,
   "id": "passing-botswana",
   "metadata": {},
   "outputs": [],
   "source": [
    "def get_meta_features(sex, age, site):\n",
    "    \n",
    "    max_age = 90\n",
    "\n",
    "    sites = (\n",
    "        'anterior_torso',\n",
    "        'head_neck',\n",
    "        'lateral_torso',\n",
    "        'lower_extremity',\n",
    "        'oral_genital',\n",
    "        'palms_soles',\n",
    "        'posterior_torso',\n",
    "        'torso',\n",
    "        'upper_extremity',\n",
    "        'NaN')\n",
    "    \n",
    "    data = [[sex, age, site]]\n",
    "    cols = ['sex','age','site']\n",
    "    df = pd.DataFrame(data, columns=cols)\n",
    "    \n",
    "    df['age'] /= max_age # scaler\n",
    "    df['sex'] = df['sex'].map({'male':1,'female':0})\n",
    "    \n",
    "    for site in sites: # one hot encoder\n",
    "        df['site ' + site] = (df['site'] == site).astype(int)\n",
    "    \n",
    "    return df.drop('site', axis=1) # .to_numpy()"
   ]
  },
  {
   "cell_type": "code",
   "execution_count": 11,
   "id": "convinced-couple",
   "metadata": {},
   "outputs": [
    {
     "data": {
      "text/html": [
       "<div>\n",
       "<style scoped>\n",
       "    .dataframe tbody tr th:only-of-type {\n",
       "        vertical-align: middle;\n",
       "    }\n",
       "\n",
       "    .dataframe tbody tr th {\n",
       "        vertical-align: top;\n",
       "    }\n",
       "\n",
       "    .dataframe thead th {\n",
       "        text-align: right;\n",
       "    }\n",
       "</style>\n",
       "<table border=\"1\" class=\"dataframe\">\n",
       "  <thead>\n",
       "    <tr style=\"text-align: right;\">\n",
       "      <th></th>\n",
       "      <th>sex</th>\n",
       "      <th>age</th>\n",
       "      <th>site anterior torso</th>\n",
       "      <th>site head/neck</th>\n",
       "      <th>site lateral torso</th>\n",
       "      <th>site lower extremity</th>\n",
       "      <th>site oral/genital</th>\n",
       "      <th>site palms/soles</th>\n",
       "      <th>site posterior torso</th>\n",
       "      <th>site torso</th>\n",
       "      <th>site upper extremity</th>\n",
       "      <th>site NaN</th>\n",
       "    </tr>\n",
       "  </thead>\n",
       "  <tbody>\n",
       "    <tr>\n",
       "      <th>0</th>\n",
       "      <td>1</td>\n",
       "      <td>0.5</td>\n",
       "      <td>0</td>\n",
       "      <td>1</td>\n",
       "      <td>0</td>\n",
       "      <td>0</td>\n",
       "      <td>0</td>\n",
       "      <td>0</td>\n",
       "      <td>0</td>\n",
       "      <td>0</td>\n",
       "      <td>0</td>\n",
       "      <td>0</td>\n",
       "    </tr>\n",
       "  </tbody>\n",
       "</table>\n",
       "</div>"
      ],
      "text/plain": [
       "   sex  age  site anterior torso  site head/neck  site lateral torso  \\\n",
       "0    1  0.5                    0               1                   0   \n",
       "\n",
       "   site lower extremity  site oral/genital  site palms/soles  \\\n",
       "0                     0                  0                 0   \n",
       "\n",
       "   site posterior torso  site torso  site upper extremity  site NaN  \n",
       "0                     0           0                     0         0  "
      ]
     },
     "execution_count": 11,
     "metadata": {},
     "output_type": "execute_result"
    }
   ],
   "source": [
    "get_meta_features('male', 45, 'head/neck')"
   ]
  },
  {
   "cell_type": "code",
   "execution_count": null,
   "id": "removed-midnight",
   "metadata": {},
   "outputs": [],
   "source": []
  },
  {
   "cell_type": "code",
   "execution_count": null,
   "id": "another-costa",
   "metadata": {},
   "outputs": [],
   "source": [
    "def load_data(path):\n",
    "    df = pd.read_csv(path)\n",
    "    df.rename(columns={'age_approx':'age'}, inplace=True)\n",
    "    df.rename(columns={'anatom_site_general_challenge':'site'}, inplace=True)\n",
    "    df.update(df[['sex','site']].fillna('NaN'))\n",
    "    df.update(df['age'].fillna(0))\n",
    "    return df\n",
    "\n",
    "def get_meta_features(df, max_age, sites):\n",
    "    df = df[['sex','age','site']].copy()\n",
    "    df['age'] /= max_age # scaler\n",
    "    df['sex'] = df['sex'].map({'male':1,'female':0}) # ,'unknown':-1\n",
    "    for site in sites: # one hot encoder\n",
    "        df['site_' + site] = (df['site'] == site).astype(int)\n",
    "    return df.drop('site', axis=1) # .to_numpy()"
   ]
  }
 ],
 "metadata": {
  "kernelspec": {
   "display_name": "Python 3",
   "language": "python",
   "name": "python3"
  },
  "language_info": {
   "codemirror_mode": {
    "name": "ipython",
    "version": 3
   },
   "file_extension": ".py",
   "mimetype": "text/x-python",
   "name": "python",
   "nbconvert_exporter": "python",
   "pygments_lexer": "ipython3",
   "version": "3.9.5"
  }
 },
 "nbformat": 4,
 "nbformat_minor": 5
}
