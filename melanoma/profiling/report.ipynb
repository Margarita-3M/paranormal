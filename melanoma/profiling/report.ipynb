{
 "cells": [
  {
   "cell_type": "markdown",
   "id": "waiting-february",
   "metadata": {},
   "source": [
    "[melanoma dataset](https://www.kaggle.com/c/siim-isic-melanoma-classification/data)"
   ]
  },
  {
   "cell_type": "code",
   "execution_count": null,
   "id": "traditional-moses",
   "metadata": {},
   "outputs": [],
   "source": [
    "import numpy as np\n",
    "import pandas as pd\n",
    "from pandas_profiling import ProfileReport"
   ]
  },
  {
   "cell_type": "code",
   "execution_count": null,
   "id": "critical-eclipse",
   "metadata": {},
   "outputs": [],
   "source": [
    "df = pd.read_csv('train.csv')\n",
    "profile = ProfileReport(df, title='Train Report')\n",
    "profile.to_file('train_report.html')"
   ]
  },
  {
   "cell_type": "code",
   "execution_count": null,
   "id": "economic-berlin",
   "metadata": {},
   "outputs": [],
   "source": [
    "df = pd.read_csv('test.csv')\n",
    "profile = ProfileReport(df, title='Test Report')\n",
    "profile.to_file('test_report.html')"
   ]
  }
 ],
 "metadata": {
  "kernelspec": {
   "display_name": "Python 3",
   "language": "python",
   "name": "python3"
  },
  "language_info": {
   "codemirror_mode": {
    "name": "ipython",
    "version": 3
   },
   "file_extension": ".py",
   "mimetype": "text/x-python",
   "name": "python",
   "nbconvert_exporter": "python",
   "pygments_lexer": "ipython3",
   "version": "3.9.5"
  }
 },
 "nbformat": 4,
 "nbformat_minor": 5
}
