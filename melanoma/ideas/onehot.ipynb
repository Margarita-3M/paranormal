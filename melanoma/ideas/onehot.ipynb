{
 "cells": [
  {
   "cell_type": "markdown",
   "id": "chubby-election",
   "metadata": {},
   "source": [
    "* [Fit required even if defining the categories manually](https://github.com/scikit-learn/scikit-learn/issues/14310)"
   ]
  },
  {
   "cell_type": "code",
   "execution_count": 125,
   "id": "developed-bunch",
   "metadata": {},
   "outputs": [],
   "source": [
    "import pickle\n",
    "import pandas as pd\n",
    "from sklearn.preprocessing import OneHotEncoder"
   ]
  },
  {
   "cell_type": "code",
   "execution_count": 76,
   "id": "steady-revolution",
   "metadata": {},
   "outputs": [],
   "source": [
    "train_data = pd.DataFrame({'c1':['b','a'], 'c2':['c','d']})"
   ]
  },
  {
   "cell_type": "code",
   "execution_count": 98,
   "id": "exterior-airport",
   "metadata": {},
   "outputs": [
    {
     "data": {
      "text/plain": [
       "[['a', 'b'], ['c', 'd']]"
      ]
     },
     "execution_count": 98,
     "metadata": {},
     "output_type": "execute_result"
    }
   ],
   "source": [
    "ohe = OneHotEncoder().fit(train_data)\n",
    "[cat.tolist() for cat in ohe.categories_] # sorted"
   ]
  },
  {
   "cell_type": "code",
   "execution_count": 102,
   "id": "forty-appreciation",
   "metadata": {},
   "outputs": [
    {
     "data": {
      "text/plain": [
       "[['b', 'a'], ['c', 'd']]"
      ]
     },
     "execution_count": 102,
     "metadata": {},
     "output_type": "execute_result"
    }
   ],
   "source": [
    "ohe = OneHotEncoder(categories=[['b','a'], ['c','d']]).fit(train_data)\n",
    "[cat.tolist() for cat in ohe.categories_] # according to categories above"
   ]
  },
  {
   "cell_type": "code",
   "execution_count": 78,
   "id": "improving-lindsay",
   "metadata": {},
   "outputs": [
    {
     "data": {
      "text/plain": [
       "matrix([[1., 0., 1., 0.]])"
      ]
     },
     "execution_count": 78,
     "metadata": {},
     "output_type": "execute_result"
    }
   ],
   "source": [
    "ohe.transform(pd.DataFrame({'c1':['b'], 'c2':['c']})).todense()"
   ]
  },
  {
   "cell_type": "code",
   "execution_count": 104,
   "id": "medieval-birmingham",
   "metadata": {},
   "outputs": [
    {
     "data": {
      "text/plain": [
       "matrix([[1., 0., 1., 0.]])"
      ]
     },
     "execution_count": 104,
     "metadata": {},
     "output_type": "execute_result"
    }
   ],
   "source": [
    "ohe.transform([['b','c']]).todense()"
   ]
  },
  {
   "cell_type": "code",
   "execution_count": 123,
   "id": "motivated-mumbai",
   "metadata": {},
   "outputs": [
    {
     "data": {
      "text/plain": [
       "[['a', 'b'], ['c', 'd']]"
      ]
     },
     "execution_count": 123,
     "metadata": {},
     "output_type": "execute_result"
    }
   ],
   "source": [
    "ohe = OneHotEncoder().fit([['a','c'],['b','d']])\n",
    "[cat.tolist() for cat in ohe.categories_] # sorted"
   ]
  },
  {
   "cell_type": "code",
   "execution_count": 135,
   "id": "atomic-edwards",
   "metadata": {},
   "outputs": [
    {
     "data": {
      "text/plain": [
       "matrix([[0., 1., 1., 0.]])"
      ]
     },
     "execution_count": 135,
     "metadata": {},
     "output_type": "execute_result"
    }
   ],
   "source": [
    "ohe.transform([['b','c']]).todense()"
   ]
  },
  {
   "cell_type": "code",
   "execution_count": 136,
   "id": "polar-third",
   "metadata": {},
   "outputs": [],
   "source": [
    "pickle.dump(ohe, open('ohe.pkl', 'wb'))"
   ]
  },
  {
   "cell_type": "code",
   "execution_count": 137,
   "id": "casual-destination",
   "metadata": {},
   "outputs": [],
   "source": [
    "loaded_ohe = pickle.load(open('ohe.pkl', 'rb'))"
   ]
  },
  {
   "cell_type": "code",
   "execution_count": 138,
   "id": "unavailable-brunei",
   "metadata": {},
   "outputs": [
    {
     "data": {
      "text/plain": [
       "matrix([[0., 1., 1., 0.]])"
      ]
     },
     "execution_count": 138,
     "metadata": {},
     "output_type": "execute_result"
    }
   ],
   "source": [
    "loaded_ohe.transform([['b','c']]).todense()"
   ]
  }
 ],
 "metadata": {
  "kernelspec": {
   "display_name": "Python 3",
   "language": "python",
   "name": "python3"
  },
  "language_info": {
   "codemirror_mode": {
    "name": "ipython",
    "version": 3
   },
   "file_extension": ".py",
   "mimetype": "text/x-python",
   "name": "python",
   "nbconvert_exporter": "python",
   "pygments_lexer": "ipython3",
   "version": "3.9.5"
  }
 },
 "nbformat": 4,
 "nbformat_minor": 5
}
