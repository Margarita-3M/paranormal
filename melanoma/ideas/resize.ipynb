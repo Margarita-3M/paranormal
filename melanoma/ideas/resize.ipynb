{
 "cells": [
  {
   "cell_type": "code",
   "execution_count": null,
   "id": "vulnerable-electricity",
   "metadata": {},
   "outputs": [],
   "source": [
    "import os\n",
    "from PIL import Image\n",
    "from tqdm import tqdm"
   ]
  },
  {
   "cell_type": "code",
   "execution_count": null,
   "id": "selected-prison",
   "metadata": {},
   "outputs": [],
   "source": [
    "def resize_images(path, size):\n",
    "    os.mkdir(f'{path}{size}')\n",
    "    for name in tqdm(os.listdir(path)):\n",
    "        im = Image.open(f'{path}/{name}')\n",
    "        im.thumbnail((size, size), Image.ANTIALIAS)\n",
    "        assert im.size[0] <= size, f'w > {size}'\n",
    "        assert im.size[1] <= size, f'h > {size}'\n",
    "        im.save(f'{path}{size}/{name}', 'JPEG', quality=100)"
   ]
  },
  {
   "cell_type": "code",
   "execution_count": null,
   "id": "supposed-center",
   "metadata": {},
   "outputs": [],
   "source": [
    "resize_images('test', 224)"
   ]
  },
  {
   "cell_type": "code",
   "execution_count": null,
   "id": "attended-stack",
   "metadata": {},
   "outputs": [],
   "source": [
    "!zip -r train224.zip train224\n",
    "from google.colab import files\n",
    "files.download('train224.zip')"
   ]
  },
  {
   "cell_type": "code",
   "execution_count": null,
   "id": "hundred-alabama",
   "metadata": {},
   "outputs": [],
   "source": [
    "from google.colab import drive\n",
    "drive.mount('/content/drive')\n",
    "!cp train224.zip /content/drive/MyDrive"
   ]
  },
  {
   "cell_type": "code",
   "execution_count": null,
   "id": "reasonable-format",
   "metadata": {},
   "outputs": [],
   "source": [
    "!gdown --id 1PtXs-S5cuzqnn3SiOmZDcnoqe60oiqvZ\n",
    "!unzip -qo train224.zip && rm train224.zip"
   ]
  }
 ],
 "metadata": {
  "kernelspec": {
   "display_name": "Python 3",
   "language": "python",
   "name": "python3"
  },
  "language_info": {
   "codemirror_mode": {
    "name": "ipython",
    "version": 3
   },
   "file_extension": ".py",
   "mimetype": "text/x-python",
   "name": "python",
   "nbconvert_exporter": "python",
   "pygments_lexer": "ipython3",
   "version": "3.9.5"
  }
 },
 "nbformat": 4,
 "nbformat_minor": 5
}
